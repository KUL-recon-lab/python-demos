{
 "cells": [
  {
   "cell_type": "code",
   "execution_count": null,
   "id": "e22a96f0",
   "metadata": {},
   "outputs": [],
   "source": [
    "import numpy as np\n",
    "import matplotlib.pyplot as plt\n",
    "\n",
    "plt.rcParams[\"font.size\"] = 8"
   ]
  },
  {
   "cell_type": "code",
   "execution_count": null,
   "id": "a876bb12",
   "metadata": {},
   "outputs": [],
   "source": [
    "n = 16\n",
    "x = np.arange(n)\n",
    "k = np.arange(n // 2 + 1)\n",
    "\n",
    "f = np.zeros(n)\n",
    "f[1] = 2\n",
    "f[2:7] = 4\n",
    "f[7] = 2\n",
    "f[8:11] = 1\n",
    "f[14] = 8\n",
    "\n",
    "# f = 2.5 * np.cos(6 * (2 * np.pi) * x / n) + 1\n",
    "# f -= f.mean()\n",
    "# f = np.exp(-((x - 9) ** 2) / (2 * 2**2))"
   ]
  },
  {
   "cell_type": "code",
   "execution_count": null,
   "id": "f17f99c5",
   "metadata": {},
   "outputs": [],
   "source": [
    "F = np.fft.rfft(f, norm=\"forward\")\n",
    "F_amp = np.abs(F)\n",
    "F_amp[1:-1] *= 2\n",
    "F_phase = np.angle(F)\n",
    "F_phase[F_amp < 1e-5] = 0\n",
    "\n",
    "F_phase[0] = 0\n",
    "F_phase[-1] = 0"
   ]
  },
  {
   "cell_type": "code",
   "execution_count": null,
   "id": "9b14d301",
   "metadata": {},
   "outputs": [],
   "source": [
    "fig, ax = plt.subplots(3, 1, figsize=(4, 5))\n",
    "ax[0].bar(x, f, width=(x[1] - x[0]), edgecolor=\"k\")\n",
    "ax[1].bar(k, F_amp, width=(k[1] - k[0]), edgecolor=\"k\", color=plt.cm.tab10(1))\n",
    "ax[2].bar(k, F_phase, width=(k[1] - k[0]), edgecolor=\"k\", color=plt.cm.tab10(1))\n",
    "ax[2].set_ylim(-np.pi, np.pi)\n",
    "\n",
    "ax[0].set_title(\"signal $f(x)$\")\n",
    "ax[1].set_title(\"cosine amplitudes\")\n",
    "ax[2].set_title(\"cosine phases\")\n",
    "\n",
    "ax[0].set_xlabel(\"location $x$\")\n",
    "ax[1].set_xlabel(\"spatial frequency $k$\")\n",
    "ax[2].set_xlabel(\"spatial frequency $k$\")\n",
    "\n",
    "fig.tight_layout()\n",
    "fig.show()"
   ]
  },
  {
   "cell_type": "code",
   "execution_count": null,
   "id": "f6a48963",
   "metadata": {},
   "outputs": [],
   "source": [
    "fig2, ax2 = plt.subplots(n // 2 + 1, 3, figsize=(11, 8), sharex=True, sharey=\"col\")\n",
    "\n",
    "f_rec = np.zeros(n)\n",
    "\n",
    "x2 = np.linspace(0, x[-1], 1000)\n",
    "\n",
    "for i in k:\n",
    "    tmp = F_amp[i] * np.cos(i * (2 * np.pi) * x / n + F_phase[i])\n",
    "    f_rec += tmp\n",
    "\n",
    "    tmp2 = F_amp[i] * np.cos(i * (2 * np.pi) * x2 / n + F_phase[i])\n",
    "\n",
    "    ax2[i, 0].bar(\n",
    "        x, np.cos(i * (2 * np.pi) * x / n), width=(x[1] - x[0]), edgecolor=\"k\"\n",
    "    )\n",
    "    ax2[i, 0].plot(\n",
    "        x2, np.cos(i * (2 * np.pi) * x2 / n), \"-\", lw=1, color=plt.cm.tab10(3)\n",
    "    )\n",
    "\n",
    "    ax2[i, 1].bar(x, tmp, width=(x[1] - x[0]), edgecolor=\"k\")\n",
    "    ax2[i, 1].plot(x2, tmp2, \"-\", lw=1, color=plt.cm.tab10(3))\n",
    "\n",
    "    ax2[i, 2].bar(x, f_rec, width=(x[1] - x[0]), edgecolor=\"k\")\n",
    "\n",
    "    ax2[i, 0].set_title(\n",
    "        f\"basis function {i}: $\\cos({i} \\cdot 2\\pi x / {n})$\", fontsize=\"medium\"\n",
    "    )\n",
    "\n",
    "    if i == 0 or i == n // 2:\n",
    "        ax2[i, 1].set_title(\n",
    "            f\"${F_amp[i]:.2f} \\cdot \\cos({i} \\cdot 2\\pi x / {n})$\",\n",
    "            fontsize=\"medium\",\n",
    "        )\n",
    "    else:\n",
    "        ax2[i, 1].set_title(\n",
    "            f\"${F_amp[i]:.2f} \\cdot \\cos({i} \\cdot 2\\pi x / {n} {F_phase[i]:+.2f})$\",\n",
    "            fontsize=\"medium\",\n",
    "        )\n",
    "\n",
    "    ax2[i, 2].set_title(f\"sum of first ${i+1}$ cosines\", fontsize=\"medium\")\n",
    "\n",
    "fig2.tight_layout()\n",
    "fig2.show()"
   ]
  }
 ],
 "metadata": {
  "jupytext": {
   "cell_metadata_filter": "-all",
   "main_language": "python",
   "notebook_metadata_filter": "-all"
  }
 },
 "nbformat": 4,
 "nbformat_minor": 5
}
