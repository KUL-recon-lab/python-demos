{
 "cells": [
  {
   "cell_type": "code",
   "execution_count": null,
   "metadata": {},
   "outputs": [],
   "source": [
    "%pip install jupytext"
   ]
  },
  {
   "cell_type": "code",
   "execution_count": null,
   "metadata": {},
   "outputs": [],
   "source": [
    "import jupytext\n",
    "from pathlib import Path\n",
    "for python_file in Path('.').glob('*.py'):\n",
    "    print(python_file)\n",
    "    jupytext.write(jupytext.read(python_file), python_file.with_suffix('.ipynb'))"
   ]
  }
 ],
 "metadata": {
  "language_info": {
   "name": "python"
  }
 },
 "nbformat": 4,
 "nbformat_minor": 2
}
